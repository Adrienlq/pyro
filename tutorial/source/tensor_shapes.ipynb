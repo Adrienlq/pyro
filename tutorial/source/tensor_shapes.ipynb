{
 "cells": [
  {
   "cell_type": "markdown",
   "metadata": {},
   "source": [
    "# Tensor shapes in Pyro 0.2\n",
    "\n",
    "This tutorial introduces Pyro's organization of tensor dimensions.\n",
    "\n",
    "Summary:\n",
    "- Tensors broadcast on the left: `torch.ones(3,4,5) + torch.ones(5)`.\n",
    "- Distribution `.sample()` has shape `batch_shape + event_shape`.\n",
    "- Distribution `.log_prob(x)` has shape `batch_shape` (but not `event_shape`!).\n",
    "- Use `my_dist.reshape([2,3,4])` to draw a batch of samples.\n",
    "- Use `my_dist.reshape(extra_event_dims=1)` to declare a dimension as dependent.\n",
    "- Use `with iarange('name', size):` to declare a dimension as independent.\n",
    "- All dimensions must be declared either dependent or independent.\n",
    "- Try to support batching on the left. This lets Pyro auto-parallelize.\n",
    "  - use negative indices like `x.sum(-1)` rather than `x.sum(2)`\n",
    "  - use ellipsis notation like `pixel = image[..., i, j]`\n",
    "  "
   ]
  },
  {
   "cell_type": "code",
   "execution_count": 1,
   "metadata": {},
   "outputs": [],
   "source": [
    "import torch\n",
    "import pyro\n",
    "from pyro.distributions import Bernoulli, MultivariateNormal, Normal"
   ]
  },
  {
   "cell_type": "markdown",
   "metadata": {},
   "source": [
    "## Distributions shapes: `batch_shape` and `event_shape`\n",
    "\n",
    "The simplest distribution shape is a single univariate distribution."
   ]
  },
  {
   "cell_type": "code",
   "execution_count": 2,
   "metadata": {},
   "outputs": [],
   "source": [
    "d = Bernoulli(0.5)\n",
    "assert d.batch_shape == ()\n",
    "assert d.event_shape == ()\n",
    "x = d.sample()\n",
    "assert x.shape == ()\n",
    "assert d.log_prob(x).shape == ()"
   ]
  },
  {
   "cell_type": "markdown",
   "metadata": {},
   "source": [
    "Distributions can be batched by passing in batched parameters."
   ]
  },
  {
   "cell_type": "code",
   "execution_count": 3,
   "metadata": {},
   "outputs": [],
   "source": [
    "d = Bernoulli(0.5 * torch.ones(3,4))\n",
    "assert d.batch_shape == (3, 4)\n",
    "assert d.event_shape == ()\n",
    "x = d.sample()\n",
    "assert x.shape == (3, 4)\n",
    "assert d.log_prob(x).shape == (3, 4)"
   ]
  },
  {
   "cell_type": "markdown",
   "metadata": {},
   "source": [
    "Another way to batch distributions is via the `.reshape()` method. This only works if \n",
    "parameters are identical along the leftmost dimensions."
   ]
  },
  {
   "cell_type": "code",
   "execution_count": 4,
   "metadata": {},
   "outputs": [],
   "source": [
    "d = Bernoulli(torch.tensor([0.1, 0.2, 0.3, 0.4])).reshape([3])\n",
    "assert d.batch_shape == (3, 4)\n",
    "assert d.event_shape == ()\n",
    "x = d.sample()\n",
    "assert x.shape == (3, 4)\n",
    "assert d.log_prob(x).shape == (3, 4)"
   ]
  },
  {
   "cell_type": "markdown",
   "metadata": {},
   "source": [
    "Multivariate distributions have nonempty `.event_shape`. For these distributions, the shapes of `.sample()` and `.log_prob(x)` differ:"
   ]
  },
  {
   "cell_type": "code",
   "execution_count": 5,
   "metadata": {},
   "outputs": [],
   "source": [
    "d = MultivariateNormal(torch.zeros(3), torch.eye(3, 3))\n",
    "assert d.batch_shape == ()\n",
    "assert d.event_shape == (3,)\n",
    "x = d.sample()\n",
    "assert x.shape == (3,)            # == batch_shape + event_shape\n",
    "assert d.log_prob(x).shape == ()  # == batch_shape"
   ]
  },
  {
   "cell_type": "markdown",
   "metadata": {},
   "source": [
    "In Pyro you can treat a univariate distribution as multivariate by calling the `.reshape(extra_event_dims=_)` property."
   ]
  },
  {
   "cell_type": "code",
   "execution_count": 6,
   "metadata": {},
   "outputs": [],
   "source": [
    "d = Bernoulli(0.5 * torch.ones(3,4)).reshape(extra_event_dims=1)\n",
    "assert d.batch_shape == (3,)\n",
    "assert d.event_shape == (4,)\n",
    "x = d.sample()\n",
    "assert x.shape == (3, 4)\n",
    "assert d.log_prob(x).shape == (3,)"
   ]
  },
  {
   "cell_type": "markdown",
   "metadata": {},
   "source": [
    "While you work with Pyro programs, keep in mind that samples have shape `batch_shape + event_shape`, whereas `.log_prob(x)` values have shape `batch_shape`. You'll need to ensure that `batch_shape` is carefully controlled by either trimming it down with `.reshape(extra_event_dims=_)` or by declaring dimensions as independent via `pyro.iarange`."
   ]
  },
  {
   "cell_type": "markdown",
   "metadata": {},
   "source": [
    "## Declare independent dims with `iarange`"
   ]
  },
  {
   "cell_type": "code",
   "execution_count": 7,
   "metadata": {},
   "outputs": [],
   "source": [
    "def model():\n",
    "    a = sample(\"a\", Normal(0, 1))\n",
    "    b = sample(\"b\", Normal(zeros(2), 1).reshape(extra_event_dims=1))\n",
    "    with iarange(\"c\", 2):\n",
    "        c = sample(\"c\", Normal(zeros(2), 1))\n",
    "    with iarange(\"d\", 3):\n",
    "        d = sample(\"d\", Normal(zeros(3,4,5), 1).reshape(extra_event_dims=2))\n",
    "    assert a.shape == ()\n",
    "    assert b.shape == (2,)\n",
    "    assert c.shape == (2,)\n",
    "    assert d.shape == (3,4,5)\n",
    "\n",
    "    x_axis = iarange(\"x\", 3, dim=-2)\n",
    "    y_axis = iarange(\"y\", 2, dim=-3)\n",
    "    with x_axis:\n",
    "        x = sample(\"x\", Normal(0, 1).reshape([3, 1]))\n",
    "    with y_axis:\n",
    "        y = sample(\"y\", Normal(0, 1).reshape([2, 1, 1]))\n",
    "    with x_axis, y_axis:\n",
    "        xy = sample(\"xy\", Normal(0, 1).reshape([2, 3, 1]))\n",
    "        z = sample(\"z\", Normal(0, 1).reshape([2, 3, 1, 5], 1))\n",
    "    assert x.shape == (3, 1)\n",
    "    assert y.shape == (2, 1, 1)\n",
    "    assert xy.shape == (2, 3, 1)\n",
    "    assert z.shape == (2, 3, 1, 5)"
   ]
  },
  {
   "cell_type": "markdown",
   "metadata": {},
   "source": [
    "```\n",
    "batch dims | event dims\n",
    "-----------+-----------\n",
    "           |        a = sample(\"a\", Normal(0, 1))\n",
    "           |2       b = sample(\"b\", Normal(zeros(2), 1)\n",
    "           |                        .reshape(extra_event_dims=1)\n",
    "           |        with iarange(\"c\", 2):\n",
    "          2|            c = sample(\"c\", Normal(zeros(2), 1))\n",
    "           |        with iarange(\"d\", 3):\n",
    "          3|4 5         d = sample(\"d\", Normal(zeros(3,4,5), 1)\n",
    "           |                       .reshape(extra_event_dims=2)\n",
    "           |        x_axis = iarange(\"x\", 3, dim=-2)\n",
    "           |        y_axis = iarange(\"y\", 2, dim=-3)\n",
    "           |        with x_axis:\n",
    "        3 1|            x = sample(\"x\", Normal(0, 1)\n",
    "           |                       .reshape([3, 1]))\n",
    "           |        with y_axis:\n",
    "      2 1 1|            y = sample(\"y\", Normal(0, 1)\n",
    "           |                       .reshape([2, 1, 1]))\n",
    "           |        with x_axis, y_axis:\n",
    "      2 3 1|            xy = sample(\"xy\", Normal(0, 1)\n",
    "           |                        .reshape([2, 3, 1]))\n",
    "      2 3 1|5           z = sample(\"z\", Normal(0, 1)\n",
    "           |                       .reshape([2, 3, 1, 5], 1))\n",
    "```"
   ]
  },
  {
   "cell_type": "markdown",
   "metadata": {},
   "source": [
    "## Broadcasting to allow parallel enumeration"
   ]
  },
  {
   "cell_type": "markdown",
   "metadata": {},
   "source": [
    "```\n",
    "       max_iarange_nesting = 4\n",
    "            |<--->|\n",
    "enumeration |batch| event\n",
    "------------+-----+--------\n",
    "            |. . .|        a = sample(\"a\", Normal(0, 1))\n",
    "            |. . .|2       b = sample(\"b\", Normal(zeros(2), 1)\n",
    "            |     |                        .reshape(extra_event_dims=1))\n",
    "            |     |        with iarange(\"c\", 2):\n",
    "            |. . 2|            c = sample(\"c\", Normal(zeros(2), 1))\n",
    "            |     |        with iarange(\"d\", 3):\n",
    "            |. . 3|4 5         d = sample(\"d\", Normal(zeros(3,4,5), 1)\n",
    "            |     |                       .reshape(extra_event_dims=2))\n",
    "            |     |        x_axis = iarange(\"x\", 3, dim=-2)\n",
    "            |     |        y_axis = iarange(\"y\", 2, dim=-3)\n",
    "            |     |        with x_axis:\n",
    "            |. 3 .|            x = sample(\"x\", Normal(0, 1)\n",
    "            |     |                       .reshape([3, 1]))\n",
    "            |     |        with y_axis:\n",
    "            |2 . .|            y = sample(\"y\", Normal(0, 1)\n",
    "            |     |                       .reshape([2, 1, 1]))\n",
    "            |     |        with x_axis, y_axis:\n",
    "            |2 3 .|            xy = sample(\"xy\", Normal(0, 1)\n",
    "            |     |                        .reshape([2, 3, 1]))\n",
    "            |2 3 .|5           z = sample(\"z\", Normal(0, 1)\n",
    "            |     |                       .reshape([2, 3, 1, 5], 1))\n",
    "\n",
    "```"
   ]
  },
  {
   "cell_type": "code",
   "execution_count": null,
   "metadata": {},
   "outputs": [],
   "source": []
  }
 ],
 "metadata": {
  "kernelspec": {
   "display_name": "Python 2",
   "language": "python",
   "name": "python2"
  },
  "language_info": {
   "codemirror_mode": {
    "name": "ipython",
    "version": 2
   },
   "file_extension": ".py",
   "mimetype": "text/x-python",
   "name": "python",
   "nbconvert_exporter": "python",
   "pygments_lexer": "ipython2",
   "version": "2.7.13"
  }
 },
 "nbformat": 4,
 "nbformat_minor": 2
}
